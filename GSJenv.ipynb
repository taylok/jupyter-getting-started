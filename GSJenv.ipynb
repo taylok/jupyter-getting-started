{
 "cells": [
  {
   "cell_type": "code",
   "execution_count": 3,
   "id": "29fb6781-89ce-4c89-8871-c816c4cbe4d8",
   "metadata": {},
   "outputs": [
    {
     "name": "stdout",
     "output_type": "stream",
     "text": [
      "Hello, World!\n"
     ]
    }
   ],
   "source": [
    "def print_hello_world():\n",
    "    print(\"Hello, World!\")\n",
    "\n",
    "print_hello_world()"
   ]
  },
  {
   "cell_type": "code",
   "execution_count": null,
   "id": "0f6f1be4",
   "metadata": {},
   "outputs": [],
   "source": [
    "# Function that Prints “Hello World!”"
   ]
  }
 ],
 "metadata": {
  "kernelspec": {
   "display_name": "jupyter-getting-started",
   "language": "python",
   "name": "python3"
  },
  "language_info": {
   "codemirror_mode": {
    "name": "ipython",
    "version": 3
   },
   "file_extension": ".py",
   "mimetype": "text/x-python",
   "name": "python",
   "nbconvert_exporter": "python",
   "pygments_lexer": "ipython3",
   "version": "3.12.11"
  }
 },
 "nbformat": 4,
 "nbformat_minor": 5
}
